{
    "cells": [
        {
            "cell_type": "markdown",
            "metadata": {},
            "source": "### Non-functioning notebook used to share code"
        },
        {
            "cell_type": "code",
            "execution_count": null,
            "metadata": {},
            "outputs": [],
            "source": "# Import required libraries\nimport pandas as pd\nimport dash\nimport dash_html_components as html\nimport dash_core_components as dcc\nfrom dash.dependencies import Input, Output\nimport plotly.express as px\n\n# Read the airline data into pandas dataframe\nspacex_df = pd.read_csv(\"spacex_launch_dash.csv\")\nspacex_df['Booster Version Short'] = spacex_df['Booster Version'].str.split().str[1]\nmax_payload = spacex_df['Payload Mass (kg)'].max()\nmin_payload = spacex_df['Payload Mass (kg)'].min()\n\n# Create a dash application\napp = dash.Dash(__name__)\n\n# Create an app layout\napp.layout = html.Div(children=[html.H1('SpaceX Launch Records Dashboard',\n                                        style={'textAlign': 'center', 'color': '#503D36',\n                                               'font-size': 40}),\n                                \n                                # TASK 1: Add a dropdown list to enable Launch Site selection\n                                dcc.Dropdown(id='site-dropdown',options=[\n                                        {'label':'All Sites','value':'all'},\n                                        {'label':'CCAFS LC-40','value':'CCAFS LC-40'},\n                                        {'label':'VAFB SLC-4E','value':'VAFB SLC-4E'},\n                                        {'label':'KSC LC-39A','value':'KSC LC-39A'},\n                                        {'label':'CCAFS SLC-40','value':'CCAFS SLC-40'} \n                                    ],\n                                    value='all',\n                                    placeholder='Select a Launch Site here',\n                                    searchable=True\n                                ),\n                                \n                                html.Br(),\n\n                                # TASK 2: Add a pie chart to show the total successful launches count for all sites\n                                # If a specific launch site was selected, show the Success vs. Failed counts for the site\n                                html.Div(dcc.Graph(id='success-pie-chart')),\n                                html.Br(),\n\n                                html.P(\"Payload range (Kg):\"),\n                                # TASK 3: Add a slider to select payload range\n                                dcc.RangeSlider(id='payload-slider',min=0,max=10000,step=1000,\n                                    marks={0:'0',2000:'2000',4000:'4000',6000:'6000',\n                                           8000:'8000',10000:'10000'},\n                                    value=[min_payload,max_payload]),\n\n                                # TASK 4: Add a scatter chart to show the correlation between payload and launch success\n                                html.Div(dcc.Graph(id='success-payload-scatter-chart')),\n                                ])\n\n# TASK 2:\n# Add a callback function for `site-dropdown` as input, `success-pie-chart` as output\n# Function decorator to specify function input and output\n@app.callback(Output(component_id='success-pie-chart', component_property='figure'),\n              Input(component_id='site-dropdown', component_property='value'))\ndef get_pie_chart(entered_site):\n    if entered_site == 'all':\n        filtered_df = spacex_df\n        fig = px.pie(filtered_df, values='class', \n        names='Launch Site', \n        title='Total Successes by Launch Site')\n    else:\n        filtered_df = spacex_df[spacex_df['Launch Site']== entered_site]\n        fig = px.pie(filtered_df, \n        names='class', \n        title='Total Successes from the Launch Site: ' + str(entered_site))\n    \n    return(fig)\n\n\n# TASK 4:\n# Add a callback function for `site-dropdown` and `payload-slider` as inputs, `success-payload-scatter-chart` as output\n@app.callback(Output(component_id='success-payload-scatter-chart', component_property='figure'),\n              Input(component_id='site-dropdown', component_property='value'),\n              Input(component_id=\"payload-slider\", component_property=\"value\"))\ndef get_scatter(entered_site,payload_range):\n    if entered_site == 'all':\n        filtered_df = spacex_df\n        \n    else:\n        filtered_df = spacex_df[spacex_df['Launch Site']== entered_site]\n\n    \n    filtered_df = filtered_df[(filtered_df['Payload Mass (kg)'] > payload_range[0]) \n                          &(filtered_df['Payload Mass (kg)'] < payload_range[1])]\n    fig = px.scatter(filtered_df, y=\"class\", x=\"Payload Mass (kg)\", color=\"Booster Version Short\")\n    fig.update_xaxes(range=[payload_range[0]-100,payload_range[1]+100])\n    fig.update_yaxes(range=[-0.05,1.05])\n    return(fig)\n\n# Run the app\nif __name__ == '__main__':\n    app.run_server()\n"
        },
        {
            "cell_type": "code",
            "execution_count": null,
            "metadata": {},
            "outputs": [],
            "source": ""
        }
    ],
    "metadata": {
        "kernelspec": {
            "display_name": "Python 3.8",
            "language": "python",
            "name": "python3"
        },
        "language_info": {
            "codemirror_mode": {
                "name": "ipython",
                "version": 3
            },
            "file_extension": ".py",
            "mimetype": "text/x-python",
            "name": "python",
            "nbconvert_exporter": "python",
            "pygments_lexer": "ipython3",
            "version": "3.8.11"
        }
    },
    "nbformat": 4,
    "nbformat_minor": 1
}